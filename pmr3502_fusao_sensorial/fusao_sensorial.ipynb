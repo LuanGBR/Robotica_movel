{
 "cells": [
  {
   "cell_type": "markdown",
   "id": "latest-steam",
   "metadata": {},
   "source": [
    "# Capitulo 7 "
   ]
  },
  {
   "cell_type": "markdown",
   "id": "under-marks",
   "metadata": {},
   "source": [
    "### 7.1 - Filtro de partículas"
   ]
  },
  {
   "cell_type": "code",
   "execution_count": 1,
   "id": "julian-needle",
   "metadata": {},
   "outputs": [],
   "source": [
    "import cv2"
   ]
  },
  {
   "cell_type": "code",
   "execution_count": null,
   "id": "boxed-organizer",
   "metadata": {},
   "outputs": [],
   "source": [
    "cv2 . HoughCircles ( image , method , dp , minDist , param1 , param2 , ←-\n",
    "minRadius , maxRadius )"
   ]
  }
 ],
 "metadata": {
  "kernelspec": {
   "display_name": "Python 3",
   "language": "python",
   "name": "python3"
  },
  "language_info": {
   "codemirror_mode": {
    "name": "ipython",
    "version": 3
   },
   "file_extension": ".py",
   "mimetype": "text/x-python",
   "name": "python",
   "nbconvert_exporter": "python",
   "pygments_lexer": "ipython3",
   "version": "3.9.2"
  }
 },
 "nbformat": 4,
 "nbformat_minor": 5
}
