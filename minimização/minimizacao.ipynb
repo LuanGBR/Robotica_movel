{
 "cells": [
  {
   "cell_type": "code",
   "execution_count": 360,
   "metadata": {},
   "outputs": [],
   "source": [
    "import pandas as pd\n",
    "import numpy as np\n",
    "from scipy.optimize import minimize\n",
    "import matplotlib.pyplot as plt"
   ]
  },
  {
   "cell_type": "code",
   "execution_count": 361,
   "metadata": {},
   "outputs": [],
   "source": [
    "arquivos= ['x-','x+','y-','y+','z-','z+']\n",
    "todas_leituras = [pd.read_csv(n,sep='\\s+',header=None, dtype=np.float64).iloc[2:-2 , :] for n in ['dados-imu/x-.csv','dados-imu/x+.csv','dados-imu/y-.csv','dados-imu/y+.csv','dados-imu/z-.csv','dados-imu/z+.csv']]"
   ]
  },
  {
   "cell_type": "code",
   "execution_count": 362,
   "metadata": {},
   "outputs": [],
   "source": [
    "todas_leituras_combinadas = pd.concat(todas_leituras)"
   ]
  },
  {
   "cell_type": "code",
   "execution_count": 363,
   "metadata": {},
   "outputs": [],
   "source": [
    "def costfunc1(x, data, scale):\n",
    "    v = x[:-1]\n",
    "    g = x[-1]\n",
    "    R = np.linalg.norm(v+data,axis=1)\n",
    "    F = sum((scale*R-g)**2)\n",
    "\n",
    "    return F\n",
    "\n",
    "\n",
    "def grad_costfunc1(x, data, scale):\n",
    "    v = x[:-1]\n",
    "    g = x[-1]\n",
    "    R = np.linalg.norm(v+data,axis=1)\n",
    "    R_aux = np.array([ [n] for n in R])\n",
    "    dR = (v+data)/R_aux\n",
    "    dF_vx = sum(2*scale*dR[0]*(scale*R-g))\n",
    "    dF_vy = sum(2*scale*dR[1]*(scale*R-g))\n",
    "    dF_vz = sum(2*scale*dR[2]*(scale*R-g))\n",
    "    dF_g  = sum(-2*(scale*R-g))\n",
    "    return [dF_vx,dF_vy,dF_vz,dF_g]\n",
    "    "
   ]
  },
  {
   "cell_type": "code",
   "execution_count": 364,
   "metadata": {},
   "outputs": [
    {
     "name": "stdout",
     "output_type": "stream",
     "text": [
      "      fun: 111.59919715547883\n",
      " hess_inv: array([[ 2.24181813e+02,  5.53259495e+00,  4.94404145e-01,\n",
      "        -1.85456191e-04],\n",
      "       [ 5.53259495e+00,  2.29694940e+02,  7.36017906e-01,\n",
      "        -2.88258358e-04],\n",
      "       [ 4.94404145e-01,  7.36017906e-01,  2.31397054e+02,\n",
      "        -2.99872832e-04],\n",
      "       [-1.85456191e-04, -2.88258358e-04, -2.99872832e-04,\n",
      "         2.80026107e-05]])\n",
      "      jac: array([ 5.96134135e-09, -3.50918046e-09,  4.43203366e-10,  8.32743336e-07])\n",
      "  message: 'Optimization terminated successfully.'\n",
      "     nfev: 35\n",
      "      nit: 27\n",
      "     njev: 35\n",
      "   status: 0\n",
      "  success: True\n",
      "        x: array([-875.71310266,   79.44263289, -603.07464153,    9.79276866])\n",
      "[-875.71310266   79.44263289 -603.07464153    9.79276866]\n"
     ]
    }
   ],
   "source": [
    "scale = 0.000598\n",
    "res1 = minimize(costfunc1 , [0.0 , 0.0 , 0.0 , 9.8] , (todas_leituras_combinadas, scale) , jac=grad_costfunc1, method = 'BFGS')\n",
    "print(res1)\n",
    "print(res1.x)"
   ]
  },
  {
   "cell_type": "code",
   "execution_count": 365,
   "metadata": {},
   "outputs": [
    {
     "data": {
      "text/plain": [
       "(array([1.000e+01, 1.130e+02, 5.980e+02, 1.589e+03, 2.491e+03, 2.325e+03,\n",
       "        2.260e+03, 1.532e+03, 7.580e+02, 1.840e+02, 3.600e+01, 4.000e+00,\n",
       "        0.000e+00, 0.000e+00, 0.000e+00, 1.000e+00, 1.000e+00, 8.000e+00,\n",
       "        3.200e+01, 1.180e+02, 3.450e+02, 7.640e+02, 1.182e+03, 1.317e+03,\n",
       "        1.172e+03, 6.360e+02, 2.490e+02, 9.600e+01, 2.500e+01, 4.000e+00]),\n",
       " array([9.68674967, 9.69596889, 9.70518811, 9.71440733, 9.72362655,\n",
       "        9.73284577, 9.74206499, 9.75128421, 9.76050343, 9.76972265,\n",
       "        9.77894187, 9.78816109, 9.79738031, 9.80659953, 9.81581875,\n",
       "        9.82503797, 9.83425719, 9.84347641, 9.85269563, 9.86191485,\n",
       "        9.87113407, 9.88035329, 9.88957251, 9.89879173, 9.90801095,\n",
       "        9.91723017, 9.92644939, 9.93566861, 9.94488783, 9.95410705,\n",
       "        9.96332627]),\n",
       " <BarContainer object of 30 artists>)"
      ]
     },
     "execution_count": 365,
     "metadata": {},
     "output_type": "execute_result"
    },
    {
     "data": {
      "image/png": "[encoded data removed]",
      "text/plain": [
       "<Figure size 432x288 with 1 Axes>"
      ]
     },
     "metadata": {
      "needs_background": "light"
     },
     "output_type": "display_data"
    }
   ],
   "source": [
    "def calc_accel1(medida, parametros, scale):\n",
    "    rx, ry, rz = medida\n",
    "    rx += parametros[0]\n",
    "    ry += parametros[1]\n",
    "    rz += parametros[2]\n",
    "    return scale*np.sqrt(rx*rx + ry*ry + rz*rz)\n",
    "\n",
    "medidas_g = [calc_accel1(m,res1.x, scale) for m in todas_leituras_combinadas.values.tolist()]\n",
    "\n",
    "plt.hist(medidas_g, bins =30)"
   ]
  },
  {
   "cell_type": "code",
   "execution_count": 366,
   "metadata": {},
   "outputs": [],
   "source": [
    "medidas_g_separadas = [[calc_accel1(m, res1.x ,scale) for m in leitura.values.tolist()] for leitura in todas_leituras]"
   ]
  },
  {
   "cell_type": "code",
   "execution_count": 367,
   "metadata": {},
   "outputs": [
    {
     "data": {
      "text/plain": [
       "<matplotlib.legend.Legend at 0x16396703520>"
      ]
     },
     "execution_count": 367,
     "metadata": {},
     "output_type": "execute_result"
    },
    {
     "data": {
      "image/png": "[encoded data removed]",
      "text/plain": [
       "<Figure size 432x288 with 1 Axes>"
      ]
     },
     "metadata": {
      "needs_background": "light"
     },
     "output_type": "display_data"
    }
   ],
   "source": [
    "fig, ax = plt.subplots()\n",
    "ax.hist(medidas_g_separadas[0], bins =30, label = arquivos[0])\n",
    "ax.hist(medidas_g_separadas[1], bins =30, label = arquivos[1])\n",
    "ax.hist(medidas_g_separadas[2], bins =30, label = arquivos[2])\n",
    "ax.hist(medidas_g_separadas[3], bins =30, label = arquivos[3])\n",
    "ax.hist(medidas_g_separadas[4], bins =30, label = arquivos[4])\n",
    "ax.hist(medidas_g_separadas[5], bins =30, label = arquivos[5])\n",
    "ax.legend()"
   ]
  },
  {
   "cell_type": "code",
   "execution_count": 368,
   "metadata": {},
   "outputs": [],
   "source": [
    "def costfunc2 (x, data, g, scale):\n",
    "    v = x[:3]\n",
    "    s = x[3:]\n",
    "    R = np.linalg.norm(s*(v+data),axis=1)\n",
    "    F = sum((scale*R-g)**2)\n",
    "    return F\n",
    "    \n",
    "def grad_costfunc2 (x, data, g, scale):\n",
    "    v = x[:3]\n",
    "    s = x[3:]\n",
    "    R = np.linalg.norm(s*(v+data),axis=1)\n",
    "    R_aux = np.array([ [n] for n in R])\n",
    "    dR_dv = (s**2)*(v+data)/R_aux\n",
    "    dR_ds = ((s)*(v+data)**2)/R_aux\n",
    "    dF_vx = sum(2*scale*dR_dv[0]*(scale*R-g))\n",
    "    dF_vy = sum(2*scale*dR_dv[1]*(scale*R-g))\n",
    "    dF_vz = sum(2*scale*dR_dv[2]*(scale*R-g))\n",
    "    dF_sx = sum(2*scale*dR_ds[0]*(scale*R-g))\n",
    "    dF_sy = sum(2*scale*dR_ds[1]*(scale*R-g))\n",
    "    dF_sz = sum(2*scale*dR_ds[2]*(scale*R-g))\n",
    "    return [dF_vx,dF_vy,dF_vz,dF_sx,dF_sy,dF_sz]\n",
    "\n"
   ]
  },
  {
   "cell_type": "code",
   "execution_count": 369,
   "metadata": {},
   "outputs": [
    {
     "name": "stdout",
     "output_type": "stream",
     "text": [
      "      fun: 2.9875589882973235\n",
      " hess_inv: array([[ 1.91193952e+02, -9.50721871e+00,  2.13244587e+01,\n",
      "        -1.01037626e-05, -2.78534707e-06,  2.32762760e-05],\n",
      "       [-9.50721871e+00,  2.28513651e+02,  4.34581799e+00,\n",
      "         7.57251806e-05,  4.72917877e-05, -2.65374350e-05],\n",
      "       [ 2.13244587e+01,  4.34581799e+00,  2.28375069e+02,\n",
      "         1.04694996e-04,  1.08029934e-04, -1.78693278e-04],\n",
      "       [-1.01037626e-05,  7.57251806e-05,  1.04694996e-04,\n",
      "         8.83476556e-07, -1.29847419e-09,  2.37969199e-09],\n",
      "       [-2.78534707e-06,  4.72917877e-05,  1.08029934e-04,\n",
      "        -1.29847419e-09,  8.86115037e-07,  4.09262544e-09],\n",
      "       [ 2.32762760e-05, -2.65374350e-05, -1.78693278e-04,\n",
      "         2.37969199e-09,  4.09262544e-09,  8.49149250e-07]])\n",
      "      jac: array([-3.21742246e-09, -6.95849603e-10,  1.54509521e-09, -5.50138127e-07,\n",
      "       -8.70885594e-07,  1.78927475e-06])\n",
      "  message: 'Optimization terminated successfully.'\n",
      "     nfev: 47\n",
      "      nit: 34\n",
      "     njev: 47\n",
      "   status: 0\n",
      "  success: True\n",
      "        x: array([-875.3921673 ,   78.78981146, -602.70722089,    1.00382402,\n",
      "          1.00611237,    0.98828275])\n"
     ]
    }
   ],
   "source": [
    "g = 9.786366\n",
    "res2 = minimize(costfunc2, [res1.x[0],res1.x[1],res1.x[2],1.0,1.0,1.0], (todas_leituras_combinadas, g, scale), jac=grad_costfunc2, method = 'BFGS')\n",
    "print(res2)"
   ]
  },
  {
   "cell_type": "code",
   "execution_count": 370,
   "metadata": {},
   "outputs": [
    {
     "data": {
      "text/plain": [
       "(array([  1.,   0.,   0.,   0.,   1.,   0.,   0.,   0.,   0.,   0.,   1.,\n",
       "          1.,   1.,   4.,   2.,   3.,   3.,   3.,   2.,   6.,   5.,  11.,\n",
       "         13.,  18.,  15.,  22.,  24.,  24.,  36.,  51.,  50.,  74.,  87.,\n",
       "         91., 129., 146., 154., 188., 220., 280., 286., 331., 387., 379.,\n",
       "        483., 510., 577., 653., 673., 758., 820., 732., 715., 784., 700.,\n",
       "        717., 684., 631., 598., 539., 522., 521., 442., 393., 352., 326.,\n",
       "        251., 224., 215., 165., 139., 131.,  95.,  65.,  68.,  57.,  41.,\n",
       "         41.,  30.,  19.,  31.,  20.,  18.,  10.,   9.,  12.,  11.,   2.,\n",
       "          2.,   2.,   3.,   2.,   2.,   2.,   0.,   1.,   0.,   2.,   0.,\n",
       "          1.]),\n",
       " array([9.71849566, 9.71977477, 9.72105389, 9.722333  , 9.72361211,\n",
       "        9.72489122, 9.72617033, 9.72744944, 9.72872855, 9.73000766,\n",
       "        9.73128677, 9.73256588, 9.73384499, 9.7351241 , 9.73640321,\n",
       "        9.73768232, 9.73896143, 9.74024054, 9.74151965, 9.74279876,\n",
       "        9.74407787, 9.74535699, 9.7466361 , 9.74791521, 9.74919432,\n",
       "        9.75047343, 9.75175254, 9.75303165, 9.75431076, 9.75558987,\n",
       "        9.75686898, 9.75814809, 9.7594272 , 9.76070631, 9.76198542,\n",
       "        9.76326453, 9.76454364, 9.76582275, 9.76710186, 9.76838097,\n",
       "        9.76966009, 9.7709392 , 9.77221831, 9.77349742, 9.77477653,\n",
       "        9.77605564, 9.77733475, 9.77861386, 9.77989297, 9.78117208,\n",
       "        9.78245119, 9.7837303 , 9.78500941, 9.78628852, 9.78756763,\n",
       "        9.78884674, 9.79012585, 9.79140496, 9.79268407, 9.79396319,\n",
       "        9.7952423 , 9.79652141, 9.79780052, 9.79907963, 9.80035874,\n",
       "        9.80163785, 9.80291696, 9.80419607, 9.80547518, 9.80675429,\n",
       "        9.8080334 , 9.80931251, 9.81059162, 9.81187073, 9.81314984,\n",
       "        9.81442895, 9.81570806, 9.81698718, 9.81826629, 9.8195454 ,\n",
       "        9.82082451, 9.82210362, 9.82338273, 9.82466184, 9.82594095,\n",
       "        9.82722006, 9.82849917, 9.82977828, 9.83105739, 9.8323365 ,\n",
       "        9.83361561, 9.83489472, 9.83617383, 9.83745294, 9.83873205,\n",
       "        9.84001116, 9.84129028, 9.84256939, 9.8438485 , 9.84512761,\n",
       "        9.84640672]),\n",
       " <BarContainer object of 100 artists>)"
      ]
     },
     "execution_count": 370,
     "metadata": {},
     "output_type": "execute_result"
    },
    {
     "data": {
      "image/png": "[encoded data removed]",
      "text/plain": [
       "<Figure size 432x288 with 1 Axes>"
      ]
     },
     "metadata": {
      "needs_background": "light"
     },
     "output_type": "display_data"
    }
   ],
   "source": [
    "def calc_accel2(medida, parametros, scale):\n",
    "    rx, ry, rz = medida\n",
    "    rx = parametros[3]*(rx+parametros[0])\n",
    "    ry = parametros[4]*(ry+parametros[1])\n",
    "    rz = parametros[5]*(rz+parametros[2])\n",
    "    return scale*np.sqrt(rx*rx+ry*ry+rz*rz)\n",
    "\n",
    "medidas_g2 = [calc_accel2(m,res2.x, scale) for m in todas_leituras_combinadas.values.tolist()]\n",
    "\n",
    "plt.hist(medidas_g2, bins=100)"
   ]
  },
  {
   "cell_type": "code",
   "execution_count": 371,
   "metadata": {},
   "outputs": [],
   "source": [
    "medidas_g_separadas2 = [[calc_accel2(m, res2.x ,scale) for m in leitura.values.tolist()] for leitura in todas_leituras]"
   ]
  },
  {
   "cell_type": "code",
   "execution_count": 372,
   "metadata": {},
   "outputs": [
    {
     "data": {
      "text/plain": [
       "<matplotlib.legend.Legend at 0x16396b3a700>"
      ]
     },
     "execution_count": 372,
     "metadata": {},
     "output_type": "execute_result"
    },
    {
     "data": {
      "image/png": "[encoded data removed]",
      "text/plain": [
       "<Figure size 432x288 with 1 Axes>"
      ]
     },
     "metadata": {
      "needs_background": "light"
     },
     "output_type": "display_data"
    }
   ],
   "source": [
    "fig, ax = plt.subplots()\n",
    "ax.hist(medidas_g_separadas2[0], bins =30, label = arquivos)\n",
    "ax.hist(medidas_g_separadas2[1], bins =30, label = arquivos)\n",
    "ax.hist(medidas_g_separadas2[2], bins =30, label = arquivos)\n",
    "ax.hist(medidas_g_separadas2[3], bins =30, label = arquivos)\n",
    "ax.hist(medidas_g_separadas2[4], bins =30, label = arquivos)\n",
    "ax.hist(medidas_g_separadas2[5], bins =30, label = arquivos)\n",
    "ax.legend()"
   ]
  },
  {
   "cell_type": "markdown",
   "metadata": {},
   "source": [
    "# Perguntas\n",
    "1. Qual o valor do desvio padrão das acelerações em medidas g2:"
   ]
  },
  {
   "cell_type": "code",
   "execution_count": 374,
   "metadata": {},
   "outputs": [
    {
     "data": {
      "text/plain": [
       "0.012937154206142321"
      ]
     },
     "execution_count": 374,
     "metadata": {},
     "output_type": "execute_result"
    }
   ],
   "source": [
    "desvpad=np.std(medidas_g2)\n",
    "desvpad"
   ]
  },
  {
   "cell_type": "markdown",
   "metadata": {},
   "source": [
    "2. Qual o valor do desvio relativo, ou seja a razão entre o desvio padrão e a\n",
    "média de medidas g2?\n"
   ]
  },
  {
   "cell_type": "code",
   "execution_count": 376,
   "metadata": {},
   "outputs": [
    {
     "data": {
      "text/plain": [
       "0.0013219592251918367"
      ]
     },
     "execution_count": 376,
     "metadata": {},
     "output_type": "execute_result"
    }
   ],
   "source": [
    "media=np.mean(medidas_g2)\n",
    "desvpad/media"
   ]
  }
 ],
 "metadata": {
  "interpreter": {
   "hash": "b89b5cfaba6639976dc87ff2fec6d58faec662063367e2c229c520fe71072417"
  },
  "kernelspec": {
   "display_name": "Python 3.10.4 64-bit",
   "language": "python",
   "name": "python3"
  },
  "language_info": {
   "codemirror_mode": {
    "name": "ipython",
    "version": 3
   },
   "file_extension": ".py",
   "mimetype": "text/x-python",
   "name": "python",
   "nbconvert_exporter": "python",
   "pygments_lexer": "ipython3",
   "version": "3.9.6"
  },
  "orig_nbformat": 4
 },
 "nbformat": 4,
 "nbformat_minor": 2
}
