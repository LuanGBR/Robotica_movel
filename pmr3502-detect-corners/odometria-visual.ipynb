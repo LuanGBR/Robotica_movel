{
 "cells": [
  {
   "cell_type": "markdown",
   "metadata": {},
   "source": [
    "## 6.6 Uma Aplicação em Odometria Visual"
   ]
  },
  {
   "cell_type": "code",
   "execution_count": 4,
   "metadata": {},
   "outputs": [],
   "source": [
    "import cv2\n",
    "import matplotlib.pyplot as plt\n",
    "import numpy as np\n",
    "import math"
   ]
  },
  {
   "cell_type": "code",
   "execution_count": 57,
   "metadata": {},
   "outputs": [],
   "source": [
    "mtx = np.array([[772.07218515,   0.        , 634.15206573],\n",
    "                [  0.        , 771.9959048 , 366.5862172 ],\n",
    "                [  0.        ,   0.        ,   1.        ]])\n",
    "dist = np.array([[ 0.09361794, -0.22823167,  0.00027023, -0.00095334,  0.09892737]])\n",
    "\n",
    "S = np.array([[ 3.86626825e+00, -7.10264597e+01,  1.29863410e+02],\n",
    "       [-1.45832507e+02, -3.83402794e+00,  1.82359590e+00],\n",
    "       [ 3.22595808e-03,  1.25526699e+00,  1.00000000e+00]])\n",
    "mtx2 = np.float32([[4,  0,     0],\n",
    "                   [0, -4, 4*105],\n",
    "                   [0,  0,     1]])\n",
    "dim = (4*297, 4*210)\n",
    "tipo_mapa = cv2.CV_32FC1"
   ]
  },
  {
   "cell_type": "markdown",
   "metadata": {},
   "source": [
    "a matriz de transformação no espaço global L' é dada por:\n",
    "$$\n",
    "L' = Q^{-1}L*Q\n",
    "$$"
   ]
  },
  {
   "cell_type": "code",
   "execution_count": 41,
   "metadata": {},
   "outputs": [],
   "source": [
    "# valores obtidos com a função\n",
    "# imagem2global de um notebook anterior\n",
    "y_max = 333.522\n",
    "y_min = -320.964\n",
    "x_max = 439.217\n",
    "x_min = 62.422\n",
    "\n",
    "s = 1\n",
    "\n",
    "Q = np.array([[s,  0, -s*x_min],\n",
    "              [0, -s,  s*y_max],\n",
    "              [0,  0,        1]])"
   ]
  },
  {
   "cell_type": "code",
   "execution_count": 42,
   "metadata": {
    "scrolled": false
   },
   "outputs": [
    {
     "data": {
      "text/plain": [
       "array([[   2.   ,    0.   , -124.844],\n",
       "       [   0.   ,   -2.   ,  667.044],\n",
       "       [   0.   ,    0.   ,    1.   ]])"
      ]
     },
     "execution_count": 42,
     "metadata": {},
     "output_type": "execute_result"
    }
   ],
   "source": [
    "Q"
   ]
  },
  {
   "cell_type": "code",
   "execution_count": 60,
   "metadata": {},
   "outputs": [],
   "source": [
    "mapa_x, mapa_y = cv2.initUndistortRectifyMap(mtx, dist, S, Q, dim, tipo_mapa)"
   ]
  },
  {
   "cell_type": "code",
   "execution_count": 61,
   "metadata": {
    "scrolled": false
   },
   "outputs": [
    {
     "data": {
      "text/plain": [
       "<matplotlib.image.AxesImage at 0x7f609e82da60>"
      ]
     },
     "execution_count": 61,
     "metadata": {},
     "output_type": "execute_result"
    },
    {
     "data": {
      "image/png": "[encoded data removed]",
      "text/plain": [
       "<Figure size 432x288 with 1 Axes>"
      ]
     },
     "metadata": {
      "needs_background": "light"
     },
     "output_type": "display_data"
    }
   ],
   "source": [
    "mascara = np.ones([720, 1280], dtype=\"uint8\")*255\n",
    "borda = cv2.BORDER_CONSTANT\n",
    "mascara = cv2.remap(mascara, mapa_x, mapa_y, cv2.INTER_LINEAR, borderMode=borda)\n",
    "plt.imshow(mascara)"
   ]
  },
  {
   "cell_type": "code",
   "execution_count": 62,
   "metadata": {},
   "outputs": [
    {
     "data": {
      "text/plain": [
       "(840, 1188)"
      ]
     },
     "execution_count": 62,
     "metadata": {},
     "output_type": "execute_result"
    }
   ],
   "source": [
    "mascara_remap.shape"
   ]
  },
  {
   "cell_type": "code",
   "execution_count": 63,
   "metadata": {
    "scrolled": true
   },
   "outputs": [
    {
     "data": {
      "text/plain": [
       "<matplotlib.image.AxesImage at 0x7f609e816940>"
      ]
     },
     "execution_count": 63,
     "metadata": {},
     "output_type": "execute_result"
    },
    {
     "data": {
      "image/png": "[encoded data removed]",
      "text/plain": [
       "<Figure size 432x288 with 1 Axes>"
      ]
     },
     "metadata": {
      "needs_background": "light"
     },
     "output_type": "display_data"
    }
   ],
   "source": [
    "plt.imshow(np.ones([1280, 720], dtype=\"uint8\")*255)"
   ]
  },
  {
   "cell_type": "code",
   "execution_count": 29,
   "metadata": {},
   "outputs": [
    {
     "data": {
      "text/plain": [
       "<matplotlib.image.AxesImage at 0x7f60a97dc880>"
      ]
     },
     "execution_count": 29,
     "metadata": {},
     "output_type": "execute_result"
    },
    {
     "data": {
      "image/png": "[encoded data removed]",
      "text/plain": [
       "<Figure size 432x288 with 1 Axes>"
      ]
     },
     "metadata": {
      "needs_background": "light"
     },
     "output_type": "display_data"
    }
   ],
   "source": [
    "plt.imshow(np.arange(12).reshape(3,4))"
   ]
  }
 ],
 "metadata": {
  "kernelspec": {
   "display_name": "Python 3",
   "language": "python",
   "name": "python3"
  },
  "language_info": {
   "codemirror_mode": {
    "name": "ipython",
    "version": 3
   },
   "file_extension": ".py",
   "mimetype": "text/x-python",
   "name": "python",
   "nbconvert_exporter": "python",
   "pygments_lexer": "ipython3",
   "version": "3.8.10"
  }
 },
 "nbformat": 4,
 "nbformat_minor": 4
}
