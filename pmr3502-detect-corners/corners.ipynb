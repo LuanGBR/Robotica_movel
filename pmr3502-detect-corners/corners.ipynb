{
 "cells": [
  {
   "cell_type": "code",
   "execution_count": 1,
   "metadata": {},
   "outputs": [],
   "source": [
    "import cv2\n",
    "import matplotlib.pyplot as plt\n",
    "import numpy as np\n",
    "import os\n",
    "import sys\n",
    "module_path = os.path.abspath(os.path.join('..'))\n",
    "if module_path not in sys.path:\n",
    "    sys.path.append(module_path)\n",
    "from utils import *"
   ]
  },
  {
   "cell_type": "code",
   "execution_count": null,
   "metadata": {},
   "outputs": [],
   "source": [
    "captura_triangulo = \"triangulo.jpg\""
   ]
  },
  {
   "cell_type": "code",
   "execution_count": null,
   "metadata": {},
   "outputs": [],
   "source": [
    "imagem = cv2.imread(captura_triangulo)\n",
    "imagem = reprojeta(imagem)\n",
    "imagem_gray = cv2.cvtColor(imagem, cv2.COLOR_BGR2GRAY)\n",
    "imagem_gray = np.array(imagem_gray, dtype=np.float32)"
   ]
  },
  {
   "cell_type": "code",
   "execution_count": null,
   "metadata": {},
   "outputs": [],
   "source": [
    "imagem_gray"
   ]
  },
  {
   "cell_type": "code",
   "execution_count": null,
   "metadata": {},
   "outputs": [],
   "source": [
    "r_0 = cv2.cornerHarris(imagem_gray, 7, 3, 0.015)"
   ]
  },
  {
   "cell_type": "code",
   "execution_count": null,
   "metadata": {},
   "outputs": [],
   "source": [
    "r_0.max()"
   ]
  },
  {
   "cell_type": "code",
   "execution_count": null,
   "metadata": {},
   "outputs": [],
   "source": [
    "plt.imshow(r_0<-4000,  cmap='gray')"
   ]
  },
  {
   "cell_type": "code",
   "execution_count": null,
   "metadata": {},
   "outputs": [],
   "source": [
    "plt.imshow(r_0>4000, cmap='gray')"
   ]
  },
  {
   "cell_type": "code",
   "execution_count": null,
   "metadata": {},
   "outputs": [],
   "source": [
    "cantos = cv2.goodFeaturesToTrack(imagem_gray, 3, 0.01, 10)\n",
    "cantos = cantos.reshape((len(cantos), 2))"
   ]
  },
  {
   "cell_type": "code",
   "execution_count": null,
   "metadata": {},
   "outputs": [],
   "source": [
    "for n in cantos:\n",
    "    cv2.circle(imagem, tuple(n.astype('int')), 10, (255,0,0), -1)\n",
    "plt.imshow(imagem)"
   ]
  },
  {
   "cell_type": "code",
   "execution_count": null,
   "metadata": {},
   "outputs": [],
   "source": [
    "matcher = cv2.BFMatcher(normType=cv2.NORM_L2, crossCheck=False)\n",
    "captura_triangulo_2 = \"triangulo2.jpg\"\n",
    "imagem_2 = cv2.imread(captura_triangulo_2)\n",
    "imagem_2 = reprojeta(imagem_2)\n",
    "imagem_gray_2 = cv2.cvtColor(imagem_2, cv2.COLOR_BGR2GRAY)\n",
    "imagem_gray_2 = np.array(imagem_gray_2, dtype=np.float32)\n",
    "cantos_2 = cv2.goodFeaturesToTrack(imagem_gray_2, 3, 0.01, 10)\n",
    "cantos_2 = cantos_2.reshape((len(cantos_2), 2))\n",
    "matches = matcher.match(cantos_2, cantos)\n",
    "kp1 = np.array([cv2.KeyPoint(*x, 3) for x in cantos])\n",
    "kp2 = np.array([cv2.KeyPoint(*x, 3) for x in cantos_2])"
   ]
  },
  {
   "cell_type": "code",
   "execution_count": null,
   "metadata": {},
   "outputs": [],
   "source": [
    "imagem_match = cv2.drawMatches(imagem,kp1,imagem_2,kp2,matches,None,matchColor=(0,255,0))\n",
    "\n",
    "plt.figure(figsize = (20,20))\n",
    "plt.imshow(imagem_match)"
   ]
  },
  {
   "cell_type": "code",
   "execution_count": null,
   "metadata": {
    "scrolled": true
   },
   "outputs": [],
   "source": [
    "borboleta = cv2.imread(\"borboleta.jpg\")\n",
    "\n",
    "surf = cv2.xfeatures2d.SURF_create(60000)\n",
    "kp1, desc1 = surf.detectAndCompute(borboleta, None)\n",
    "nova_borboleta = cv2.drawKeypoints(borboleta, kp1, borboleta, (255,0,0), cv2.DRAW_MATCHES_FLAGS_DRAW_OVER_OUTIMG)\n",
    "plt.imshow(nova_borboleta)"
   ]
  },
  {
   "cell_type": "code",
   "execution_count": null,
   "metadata": {},
   "outputs": [],
   "source": [
    "brabuleta = reprojeta(cv2.imread(\"brabuleta.jpg\"))\n",
    "brabuleta = cv2.rotate(brabuleta, cv2.ROTATE_90_COUNTERCLOCKWISE)\n",
    "\n",
    "surf.setHessianThreshold(15000)\n",
    "kp2, desc2 = surf.detectAndCompute(brabuleta, None)\n",
    "nova_brabuleta = cv2.drawKeypoints(brabuleta, kp2, brabuleta, (255,0,0), cv2.DRAW_MATCHES_FLAGS_DRAW_OVER_OUTIMG)\n",
    "plt.imshow(nova_brabuleta)"
   ]
  },
  {
   "cell_type": "code",
   "execution_count": null,
   "metadata": {},
   "outputs": [],
   "source": [
    "matches = matcher.knnMatch(desc2, desc1, k=2)\n",
    "matchesMask = [[0 ,0] for i in range(len(matches))]\n",
    "for i, (m, n) in enumerate(matches):\n",
    "    if m.distance < 0.7*n.distance:\n",
    "        matchesMask[i]=[1 ,0]\n",
    "draw_params = dict(matchColor=(0,255,0),\n",
    "                singlePointColor=(255,0,0),\n",
    "                matchesMask=matchesMask,\n",
    "                flags=cv2.DrawMatchesFlags_DEFAULT)\n",
    "imagem = cv2.drawMatchesKnn(brabuleta, kp2, borboleta, kp1, matches, None ,**draw_params)\n",
    "plt.imshow(imagem)"
   ]
  },
  {
   "cell_type": "code",
   "execution_count": null,
   "metadata": {},
   "outputs": [],
   "source": [
    "brabuleta = reprojeta(cv2.imread(\"brabuleta.jpg\"))\n",
    "\n",
    "brabuleta = cv2.rotate(brabuleta, cv2.ROTATE_90_COUNTERCLOCKWISE)\n",
    "brabuleta = cv2.rotate(brabuleta, cv2.ROTATE_180)\n",
    "kp2, desc2 = surf.detectAndCompute(brabuleta, None)\n",
    "nova_brabuleta = cv2.drawKeypoints(brabuleta, kp2, brabuleta, (255,0,0), flags=5)\n",
    "plt.imshow(nova_brabuleta)\n",
    "\n",
    "matches = matcher.knnMatch(desc2, desc1, k=2)\n",
    "matchesMask = [[0 ,0] for i in range(len(matches))]\n",
    "for i, (m, n) in enumerate(matches):\n",
    "    if m.distance < 0.7*n.distance:\n",
    "        matchesMask[i]=[1 ,0]\n",
    "draw_params = dict(matchColor=(0,255,0),\n",
    "                singlePointColor=(255,0,0),\n",
    "                matchesMask=matchesMask,\n",
    "                flags=cv2.DrawMatchesFlags_DEFAULT)\n",
    "imagem = cv2.drawMatchesKnn(brabuleta, kp2, borboleta, kp1, matches, None ,**draw_params)\n",
    "plt.imshow(imagem)"
   ]
  },
  {
   "cell_type": "code",
   "execution_count": null,
   "metadata": {},
   "outputs": [],
   "source": [
    "ciduniv = cv2.imread(\"ciduniv.png\")\n",
    "\n",
    "surf = cv2.xfeatures2d.SURF_create(10000)\n",
    "kp_uni, desc_uni = surf.detectAndCompute(ciduniv, None)\n",
    "nova_ciduniv = cv2.drawKeypoints(ciduniv, kp_uni, ciduniv, (255,0,0), cv2.DRAW_MATCHES_FLAGS_DRAW_OVER_OUTIMG)\n",
    "plt.imshow(ciduniv)"
   ]
  },
  {
   "cell_type": "code",
   "execution_count": null,
   "metadata": {
    "scrolled": true
   },
   "outputs": [],
   "source": [
    "poli_satelite = reprojeta(cv2.imread(\"poli_satelite.jpg\"))\n",
    "poli_satelite = cv2.rotate(poli_satelite, cv2.ROTATE_180)\n",
    "\n",
    "surf = cv2.xfeatures2d.SURF_create(4000)\n",
    "kp_poli, desc_poli = surf.detectAndCompute(poli_satelite, None)\n",
    "nova_ciduniv = cv2.drawKeypoints(poli_satelite, kp_poli, poli_satelite, (255,0,0), cv2.DRAW_MATCHES_FLAGS_DRAW_OVER_OUTIMG)\n",
    "plt.imshow(poli_satelite)"
   ]
  },
  {
   "cell_type": "code",
   "execution_count": 2,
   "metadata": {},
   "outputs": [
    {
     "ename": "NameError",
     "evalue": "name 'desc_uni' is not defined",
     "output_type": "error",
     "traceback": [
      "\u001b[1;31m---------------------------------------------------------------------------\u001b[0m",
      "\u001b[1;31mNameError\u001b[0m                                 Traceback (most recent call last)",
      "\u001b[1;32m~\\AppData\\Local\\Temp/ipykernel_5156/1205887783.py\u001b[0m in \u001b[0;36m<module>\u001b[1;34m\u001b[0m\n\u001b[0;32m      3\u001b[0m \u001b[0msearch_params\u001b[0m \u001b[1;33m=\u001b[0m \u001b[0mdict\u001b[0m\u001b[1;33m(\u001b[0m\u001b[0mchecks\u001b[0m \u001b[1;33m=\u001b[0m\u001b[1;36m50\u001b[0m\u001b[1;33m)\u001b[0m\u001b[1;33m\u001b[0m\u001b[1;33m\u001b[0m\u001b[0m\n\u001b[0;32m      4\u001b[0m \u001b[0mflann\u001b[0m \u001b[1;33m=\u001b[0m \u001b[0mcv2\u001b[0m\u001b[1;33m.\u001b[0m\u001b[0mFlannBasedMatcher\u001b[0m\u001b[1;33m(\u001b[0m\u001b[0mindex_params\u001b[0m\u001b[1;33m,\u001b[0m \u001b[0msearch_params\u001b[0m\u001b[1;33m)\u001b[0m\u001b[1;33m\u001b[0m\u001b[1;33m\u001b[0m\u001b[0m\n\u001b[1;32m----> 5\u001b[1;33m \u001b[0mflann\u001b[0m\u001b[1;33m.\u001b[0m\u001b[0madd\u001b[0m\u001b[1;33m(\u001b[0m\u001b[0mnp\u001b[0m\u001b[1;33m.\u001b[0m\u001b[0marray\u001b[0m\u001b[1;33m(\u001b[0m\u001b[1;33m[\u001b[0m\u001b[0mdesc_uni\u001b[0m\u001b[1;33m]\u001b[0m\u001b[1;33m)\u001b[0m\u001b[1;33m)\u001b[0m\u001b[1;33m\u001b[0m\u001b[1;33m\u001b[0m\u001b[0m\n\u001b[0m\u001b[0;32m      6\u001b[0m \u001b[0mflann\u001b[0m\u001b[1;33m.\u001b[0m\u001b[0mtrain\u001b[0m\u001b[1;33m(\u001b[0m\u001b[1;33m)\u001b[0m\u001b[1;33m\u001b[0m\u001b[1;33m\u001b[0m\u001b[0m\n\u001b[0;32m      7\u001b[0m \u001b[0mmatches\u001b[0m \u001b[1;33m=\u001b[0m \u001b[0mflann\u001b[0m\u001b[1;33m.\u001b[0m\u001b[0mknnMatch\u001b[0m\u001b[1;33m(\u001b[0m\u001b[0mdesc_poli\u001b[0m\u001b[1;33m,\u001b[0m\u001b[0mk\u001b[0m\u001b[1;33m=\u001b[0m\u001b[1;36m2\u001b[0m\u001b[1;33m)\u001b[0m\u001b[1;33m\u001b[0m\u001b[1;33m\u001b[0m\u001b[0m\n",
      "\u001b[1;31mNameError\u001b[0m: name 'desc_uni' is not defined"
     ]
    }
   ],
   "source": [
    "FLANN_INDEX_KDTREE = 1\n",
    "index_params = dict(algorithm=FLANN_INDEX_KDTREE, trees=4)\n",
    "search_params = dict(checks =50)\n",
    "flann = cv2.FlannBasedMatcher(index_params, search_params)\n",
    "flann.add(np.array([desc_uni]))\n",
    "flann.train()\n",
    "matches = flann.knnMatch(desc_poli,k=2)\n",
    "\n",
    "matchesMask = [[0 ,0] for i in range(len(matches))]\n",
    "for i, (m, n) in enumerate(matches):\n",
    "    if m.distance < 0.7*n.distance:\n",
    "        matchesMask[i]=[1 ,0]\n",
    "        \n",
    "        \n",
    "draw_params = dict(matchColor=(0,255,0),\n",
    "                singlePointColor=(255,0,0),\n",
    "                matchesMask=matchesMask,\n",
    "                flags=cv2.DrawMatchesFlags_DEFAULT)\n",
    "imagem = cv2.drawMatchesKnn(poli_satelite, kp_poli, ciduniv, kp_uni, matches, None ,**draw_params)\n",
    "\n",
    "plt.figure(figsize = (20,20))\n",
    "plt.imshow(imagem)"
   ]
  },
  {
   "cell_type": "code",
   "execution_count": null,
   "metadata": {},
   "outputs": [],
   "source": [
    "pt1 = np.array([kp_poli[matches[i][0].queryIdx].pt for i in range(len(matches))])\n",
    "pt2 = np.array([kp_uni[matches[i][1].trainIdx].pt for i in range(len(matches))])\n",
    "\n",
    "matriz, mascara = cv2.estimateAffinePartial2D(pt1, pt2)\n",
    "\n",
    "Mtrans = np.eye(3)\n",
    "Mtrans[:2,:] = matriz\n",
    "a = np.dot(Mtrans, np.array([930,840,1]))[:2].astype('int32')\n",
    "b = np.dot(Mtrans, np.array([0,0,1]))[:2].astype('int32')\n",
    "c = np.dot(Mtrans, np.array([0,840,1]))[:2].astype('int32')\n",
    "d = np.dot(Mtrans, np.array([930,0,1]))[:2].astype('int32')\n",
    "\n",
    "\n",
    "cidunivC = ciduniv.copy()\n",
    "cv2.line(cidunivC, tuple(a), tuple(c), (0,0,255), 10)\n",
    "cv2.line(cidunivC, tuple(c), tuple(b), (0,0,255), 10)\n",
    "cv2.line(cidunivC, tuple(b), tuple(d), (0,0,255), 10)\n",
    "cv2.line(cidunivC, tuple(d), tuple(a), (0,0,255), 10)\n",
    "\n",
    "draw_params = dict(matchColor=(0,255,0),\n",
    "                singlePointColor=(255,0,0),\n",
    "                matchesMask=mascara,\n",
    "                flags=cv2.DrawMatchesFlags_DEFAULT)\n",
    "imagem = cv2.drawMatches(poli_satelite, kp_poli, cidunivC, kp_uni, matches, None ,**draw_params)\n",
    "\n",
    "plt.figure(figsize = (20,20))\n",
    "plt.imshow(imagem)"
   ]
  },
  {
   "attachments": {},
   "cell_type": "markdown",
   "metadata": {},
   "source": [
    "Considerando a translação e escala do remapeamento da imagem do campus da Poli, quais as coordenadas nesta imagem da origem do sistema global de coordenadas?"
   ]
  },
  {
   "cell_type": "code",
   "execution_count": null,
   "metadata": {},
   "outputs": [],
   "source": [
    "x,_ = global2camera([0,0,0])\n",
    "x"
   ]
  },
  {
   "cell_type": "markdown",
   "metadata": {},
   "source": [
    "Dado o resultado do RANSAC, quais as coordenadas na imagem do campus da USP correspondentes à origem do sistema global de coordenadas?"
   ]
  },
  {
   "cell_type": "code",
   "execution_count": null,
   "metadata": {},
   "outputs": [],
   "source": [
    "np.dot(Mtrans, np.array(x))[:2].astype('int32')"
   ]
  }
 ],
 "metadata": {
  "interpreter": {
   "hash": "247461bf8aa8c9adb8e6b24570ac9b1efa11faa6791c94a77fe6787a89fe8e8c"
  },
  "kernelspec": {
   "display_name": "Python 3",
   "language": "python",
   "name": "python3"
  },
  "language_info": {
   "codemirror_mode": {
    "name": "ipython",
    "version": 3
   },
   "file_extension": ".py",
   "mimetype": "text/x-python",
   "name": "python",
   "nbconvert_exporter": "python",
   "pygments_lexer": "ipython3",
   "version": "3.9.6"
  }
 },
 "nbformat": 4,
 "nbformat_minor": 2
}
