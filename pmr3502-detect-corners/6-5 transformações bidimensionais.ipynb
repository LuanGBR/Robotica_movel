{
 "cells": [
  {
   "cell_type": "markdown",
   "id": "retired-membrane",
   "metadata": {},
   "source": [
    "## 6.5 Estimando transformações bidimensionais entre imagens"
   ]
  },
  {
   "cell_type": "code",
   "execution_count": 1,
   "id": "personal-adams",
   "metadata": {},
   "outputs": [],
   "source": [
    "import cv2\n",
    "import matplotlib.pyplot as plt\n",
    "import numpy as np"
   ]
  },
  {
   "cell_type": "code",
   "execution_count": 4,
   "id": "powered-township",
   "metadata": {},
   "outputs": [],
   "source": [
    "des_campus = []\n",
    "des_poli = []"
   ]
  },
  {
   "cell_type": "code",
   "execution_count": 3,
   "id": "defined-panama",
   "metadata": {},
   "outputs": [],
   "source": [
    "FLANN_INDEX_KDTREE = 1\n",
    "index_params = dict(algorithm = FLANN_INDEX_KDTREE, trees=4)\n",
    "search_params = dict(checks=50)\n",
    "flann = cv2.FlannBasedMatcher(index_params, search_params)"
   ]
  },
  {
   "cell_type": "code",
   "execution_count": 5,
   "id": "prostate-madison",
   "metadata": {},
   "outputs": [
    {
     "ename": "error",
     "evalue": "OpenCV(4.5.1) ../modules/flann/src/miniflann.cpp:336: error: (-210:Unsupported format or combination of formats) in function 'buildIndex_'\n> type=0\n> ",
     "output_type": "error",
     "traceback": [
      "\u001b[0;31m---------------------------------------------------------------------------\u001b[0m",
      "\u001b[0;31merror\u001b[0m                                     Traceback (most recent call last)",
      "\u001b[0;32m<ipython-input-5-044679b271c2>\u001b[0m in \u001b[0;36m<module>\u001b[0;34m\u001b[0m\n\u001b[1;32m      1\u001b[0m \u001b[0mflann\u001b[0m\u001b[0;34m.\u001b[0m\u001b[0madd\u001b[0m\u001b[0;34m(\u001b[0m\u001b[0mnp\u001b[0m\u001b[0;34m.\u001b[0m\u001b[0marray\u001b[0m\u001b[0;34m(\u001b[0m\u001b[0;34m[\u001b[0m\u001b[0mdes_campus\u001b[0m\u001b[0;34m]\u001b[0m\u001b[0;34m)\u001b[0m\u001b[0;34m)\u001b[0m\u001b[0;34m\u001b[0m\u001b[0;34m\u001b[0m\u001b[0m\n\u001b[0;32m----> 2\u001b[0;31m \u001b[0mflann\u001b[0m\u001b[0;34m.\u001b[0m\u001b[0mtrain\u001b[0m\u001b[0;34m(\u001b[0m\u001b[0;34m)\u001b[0m\u001b[0;34m\u001b[0m\u001b[0;34m\u001b[0m\u001b[0m\n\u001b[0m",
      "\u001b[0;31merror\u001b[0m: OpenCV(4.5.1) ../modules/flann/src/miniflann.cpp:336: error: (-210:Unsupported format or combination of formats) in function 'buildIndex_'\n> type=0\n> "
     ]
    }
   ],
   "source": [
    "flann.add(np.array([des_campus]))\n",
    "flann.train()"
   ]
  },
  {
   "cell_type": "code",
   "execution_count": null,
   "id": "postal-secretariat",
   "metadata": {},
   "outputs": [],
   "source": [
    "matches = flann.knnMatch(des_poli, k=2)"
   ]
  },
  {
   "cell_type": "markdown",
   "id": "capital-victor",
   "metadata": {},
   "source": [
    "1 - Reproduza os resultados das Figuras 6.17, 6.20, 6.21 e 6.22. Ajuste os parâmetros necessários."
   ]
  },
  {
   "cell_type": "markdown",
   "id": "interracial-numbers",
   "metadata": {},
   "source": [
    "2 - Considerando a translação e escala do mapeamento da imagem do campus da Poli, quais as coordenadas nesta imagem da origem do sistema global de coordenadas?"
   ]
  }
 ],
 "metadata": {
  "kernelspec": {
   "display_name": "Python 3",
   "language": "python",
   "name": "python3"
  },
  "language_info": {
   "codemirror_mode": {
    "name": "ipython",
    "version": 3
   },
   "file_extension": ".py",
   "mimetype": "text/x-python",
   "name": "python",
   "nbconvert_exporter": "python",
   "pygments_lexer": "ipython3",
   "version": "3.9.2"
  }
 },
 "nbformat": 4,
 "nbformat_minor": 5
}
