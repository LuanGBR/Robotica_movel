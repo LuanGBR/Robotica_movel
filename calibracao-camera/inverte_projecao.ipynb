{
 "cells": [
  {
   "cell_type": "markdown",
   "metadata": {},
   "source": [
    "## 5.8 Invertendo a projeção"
   ]
  },
  {
   "cell_type": "markdown",
   "metadata": {},
   "source": [
    "$x, y$: coordenadas na imagem\n",
    "\n",
    "$\\breve x, \\breve y$: coodenadas projetadas do modelo não linear de distorção\n",
    "\n",
    "$\\hat x, \\hat y$: coordenadas da projeção unitária no ponto\n",
    "\n",
    "$\\tilde x, \\tilde y, \\tilde z$: coordenadas do ponto no referencial da câmera\n",
    "\n",
    "$x^\\prime, y^\\prime, z^\\prime$: coordenadas do ponto no sistema global"
   ]
  },
  {
   "cell_type": "code",
   "execution_count": 1,
   "metadata": {},
   "outputs": [],
   "source": [
    "import cv2\n",
    "import matplotlib.pyplot as plt\n",
    "import numpy as np\n",
    "import math\n",
    "\n",
    "from ipywidgets import interact"
   ]
  },
  {
   "cell_type": "code",
   "execution_count": 2,
   "metadata": {},
   "outputs": [],
   "source": [
    "mtx = np.array([[772.07218515,   0.        , 634.15206573],\n",
    "                [  0.        , 771.9959048 , 366.5862172 ],\n",
    "                [  0.        ,   0.        ,   1.        ]])\n",
    "dist = np.array([[ 0.09361794, -0.22823167,  0.00027023, -0.00095334,  0.09892737]])"
   ]
  },
  {
   "cell_type": "markdown",
   "metadata": {},
   "source": [
    "---"
   ]
  },
  {
   "cell_type": "markdown",
   "metadata": {},
   "source": [
    "1 - Chame a função undistortPoints com o ponto no canto superior esquerdo da imagem (0, 0), no canto inferior direito (1279, 719), o ponto central (639, 359) e o ponto central inferior (1279, 719). Quais as coordenadas de projeção ideal correspondem a cada um destes pontos?"
   ]
  },
  {
   "cell_type": "code",
   "execution_count": 3,
   "metadata": {},
   "outputs": [],
   "source": [
    "# obtendo os coeficientes da projeção ideal\n",
    "pontos = np.array([[0, 0], [1279, 719], [639, 359], [639, 719]])\n",
    "novos_pontos = cv2.undistortPoints(np.float32(pontos), mtx, dist)"
   ]
  },
  {
   "cell_type": "code",
   "execution_count": 4,
   "metadata": {
    "scrolled": true
   },
   "outputs": [
    {
     "data": {
      "text/plain": [
       "array([[   0,    0],\n",
       "       [1279,  719],\n",
       "       [ 639,  359],\n",
       "       [ 639,  719]])"
      ]
     },
     "execution_count": 4,
     "metadata": {},
     "output_type": "execute_result"
    }
   ],
   "source": [
    "pontos"
   ]
  },
  {
   "cell_type": "code",
   "execution_count": 5,
   "metadata": {
    "scrolled": false
   },
   "outputs": [
    {
     "data": {
      "text/plain": [
       "array([[[-0.8471021 , -0.4905479 ]],\n",
       "\n",
       "       [[ 0.8668285 ,  0.4729746 ]],\n",
       "\n",
       "       [[ 0.00627928, -0.00982684]],\n",
       "\n",
       "       [[ 0.00640525,  0.45162222]]], dtype=float32)"
      ]
     },
     "execution_count": 5,
     "metadata": {},
     "output_type": "execute_result"
    }
   ],
   "source": [
    "novos_pontos"
   ]
  },
  {
   "cell_type": "code",
   "execution_count": 6,
   "metadata": {
    "scrolled": true
   },
   "outputs": [
    {
     "data": {
      "text/plain": [
       "array([634.15206573, 366.5862172 ])"
      ]
     },
     "execution_count": 6,
     "metadata": {},
     "output_type": "execute_result"
    }
   ],
   "source": [
    "mtx[:2,2]"
   ]
  },
  {
   "cell_type": "code",
   "execution_count": 7,
   "metadata": {},
   "outputs": [
    {
     "name": "stdout",
     "output_type": "stream",
     "text": [
      "[[0.02642356075987068, 0.015628365931442127], [-0.030896669253607484, -0.01653898274380406], [-1.2067020365029393e-07, 5.542737839702804e-08], [-0.000126090511580898, 0.004819609885025494]]\n"
     ]
    }
   ],
   "source": [
    "# Obs: essa parte (acho) está errada\n",
    "# eu não estou entendendo a apostila\n",
    "# isso é muito difícil\n",
    "\n",
    "# coordenadas projetadas do modelo não linear de distorção\n",
    "# feito de acordo com a equação 5.9 da apostila\n",
    "coords_proj = []\n",
    "for n_p in novos_pontos:\n",
    "    n_p = n_p[0]\n",
    "    d = dist[0]\n",
    "    r2 = (n_p[0]**2 + n_p[1]**2)\n",
    "    c_p_x = n_p[0]*(d[0]*r2 + d[1]*r2**2 + d[4]*r2**3) + 2*d[2]*n_p[0]*n_p[1] + d[3]*(r2 + n_p[0]**2)\n",
    "    c_p_y = n_p[1]*(d[0]*r2 + d[1]*r2**2 + d[4]*r2**3) + 2*d[3]*n_p[0]*n_p[1] + d[2]*(r2 + n_p[1]**2)\n",
    "    coords_proj.append([c_p_x, c_p_y])\n",
    "print(coords_proj)"
   ]
  },
  {
   "cell_type": "code",
   "execution_count": 8,
   "metadata": {},
   "outputs": [],
   "source": [
    "# essa parte (acho) está certa (???)\n",
    "# coordenadas na imagem\n",
    "coords_imagem = novos_pontos@mtx[:2,:2]\n",
    "for i in range(len(coords_imagem)):\n",
    "    coords_imagem[i] += mtx[:2,2]"
   ]
  },
  {
   "cell_type": "code",
   "execution_count": 9,
   "metadata": {},
   "outputs": [
    {
     "data": {
      "image/png": "[encoded data removed]",
      "text/plain": [
       "<Figure size 432x288 with 1 Axes>"
      ]
     },
     "metadata": {
      "needs_background": "light"
     },
     "output_type": "display_data"
    }
   ],
   "source": [
    "# visualizando os pontos da projeção ideal em relação aos pontos reais\n",
    "\n",
    "size = 2\n",
    "plt.scatter(pontos[:,0], pontos[:,1], color=\"blue\", s=size, label=\"pontos ideais\")\n",
    "plt.scatter(coords_imagem[:,0][:,0], coords_imagem[:,0][:,1], color=\"red\", s=size, label=\"pontos reais\")\n",
    "plt.legend()\n",
    "plt.xlim(-30, 1310)\n",
    "plt.ylim(750, -30)\n",
    "plt.show()"
   ]
  },
  {
   "cell_type": "markdown",
   "metadata": {},
   "source": [
    "---"
   ]
  },
  {
   "cell_type": "markdown",
   "metadata": {},
   "source": [
    "2 - Qual a equação (ou seja $[x^\\prime(\\lambda), y^\\prime(\\lambda), z^\\prime(\\lambda)]$) da reta correspondente\n",
    "ao ponto central?\n",
    "\n",
    "$X^\\prime(\\lambda)=\\lambda R^T \\hat X + X^\\prime_0$\n",
    "\n",
    "onde $X^\\prime_0 = -R^Tt$"
   ]
  },
  {
   "cell_type": "code",
   "execution_count": 10,
   "metadata": {},
   "outputs": [],
   "source": [
    "R = np.array([[ 0.02615377, -0.99965591, -0.00201007],\n",
    "              [-0.62292082, -0.01472463, -0.7821463 ],\n",
    "              [ 0.78184757,  0.02170819, -0.62309159]])\n",
    "t = np.array([-1.57344933, 80.92147334, 44.30539103])"
   ]
  },
  {
   "cell_type": "code",
   "execution_count": 11,
   "metadata": {},
   "outputs": [
    {
     "name": "stdout",
     "output_type": "stream",
     "text": [
      "lambda*[ 0.78813314  0.01557577 -0.61541819]+[15.80875985 -1.34315901 90.89558476]\n"
     ]
    }
   ],
   "source": [
    "ponto_central = pontos[2]\n",
    "X_chapeu = [novos_pontos[2][0][0], novos_pontos[2][0][1], 1]\n",
    "lamb = 1\n",
    "def X_linha(lamb):\n",
    "    return lamb*R.T@X_chapeu - R.T@t\n",
    "print(f\"lambda*{R.T@X_chapeu}+{- R.T@t}\")"
   ]
  },
  {
   "cell_type": "code",
   "execution_count": 12,
   "metadata": {},
   "outputs": [],
   "source": [
    "# função que recebe um ponto nas coordenadas da imagem, um valor lambda de distância da câmera\n",
    "# e retorna o ponto equivalente nas coordenadas globais\n",
    "def imagem2global(p, lamb):\n",
    "    p = cv2.undistortPoints(np.float32(p), mtx, dist)\n",
    "    p = [*p[0][0], 1]\n",
    "    return lamb*R.T@p - R.T@t"
   ]
  },
  {
   "cell_type": "code",
   "execution_count": 13,
   "metadata": {
    "scrolled": false
   },
   "outputs": [
    {
     "name": "stdout",
     "output_type": "stream",
     "text": [
      "Pontos da reta central:\n",
      "Ponto inicial: [15.80875985 -1.34315901 90.89558476]\n",
      "Ponto final: [70.97807964 -0.25285521 47.81631179]\n"
     ]
    },
    {
     "data": {
      "image/png": "[encoded data removed]",
      "text/plain": [
       "<Figure size 432x288 with 1 Axes>"
      ]
     },
     "metadata": {
      "needs_background": "light"
     },
     "output_type": "display_data"
    }
   ],
   "source": [
    "# visualização da reta que passa pelo ponto central e da pirâmide de visão\n",
    "\n",
    "# %matplotlib notebook\n",
    "\n",
    "# obs: lambda não é uma medida em milímetros\n",
    "lamb = 70\n",
    "\n",
    "p0 = X_linha(0)\n",
    "p1 = X_linha(lamb)\n",
    "\n",
    "print(\"Pontos da reta central:\")\n",
    "print(f'Ponto inicial: {p0}')\n",
    "print(f'Ponto final: {p1}')\n",
    "\n",
    "cantos_imagem = [[0, 0], [0, 719], [1279,  719], [1279, 0], [0, 0]]\n",
    "pontos_base_piramide = []\n",
    "for c in cantos_imagem:\n",
    "    pontos_base_piramide.append(imagem2global(c, lamb))\n",
    "\n",
    "# criando a lista de vértices da piramide:\n",
    "vertices_piramide = [[], [], []]\n",
    "for j in range(3):\n",
    "    for i in range(len(pontos_base_piramide)-1):\n",
    "        vertices_piramide[j].append(p0[j])\n",
    "        vertices_piramide[j].append(pontos_base_piramide[i][j])\n",
    "        vertices_piramide[j].append(pontos_base_piramide[i+1][j])\n",
    "\n",
    "fig = plt.figure()\n",
    "ax = fig.add_subplot(111, projection='3d')\n",
    "ax.quiver(*p0, *(p1-p0), color='green', label='reta do ponto central')\n",
    "ax.plot(vertices_piramide[0], vertices_piramide[1], vertices_piramide[2], color='orange', label='pirâmide de visão')\n",
    "ax.set_xlim([-10, 90])\n",
    "ax.set_ylim([-50, 50])\n",
    "ax.set_zlim([0, 100])\n",
    "\n",
    "plt.title(\"Visualização da reta do ponto central\")\n",
    "ax.set_xlabel(\"x (mm)\")\n",
    "ax.set_ylabel(\"y (mm)\")\n",
    "ax.set_zlabel(\"z (mm)\")\n",
    "plt.legend()\n",
    "plt.show()"
   ]
  },
  {
   "cell_type": "markdown",
   "metadata": {},
   "source": [
    "Dados da câmera:\n",
    "\n",
    "logitech C930e"
   ]
  },
  {
   "cell_type": "markdown",
   "metadata": {},
   "source": [
    "---"
   ]
  },
  {
   "cell_type": "markdown",
   "metadata": {},
   "source": [
    "3 - Considere a reta que passa pelo ponto central inferior e o ponto no qual esta reta cruza o plano z′ = 0. Qual a coordenada x′ deste ponto? Note que este é o ponto no solo mais próximo do robô que ainda é visı́vel pela câmera."
   ]
  },
  {
   "cell_type": "code",
   "execution_count": 14,
   "metadata": {
    "scrolled": true
   },
   "outputs": [
    {
     "data": {
      "application/vnd.jupyter.widget-view+json": {
       "model_id": "b00aba5dfeaa4481a7b4c233b69ed659",
       "version_major": 2,
       "version_minor": 0
      },
      "text/plain": [
       "interactive(children=(FloatSlider(value=93.1, description='lamb', max=95.0, min=85.0, step=0.001), Output()), …"
      ]
     },
     "metadata": {},
     "output_type": "display_data"
    }
   ],
   "source": [
    "@interact(lamb=(85.0,95.0, 0.001))\n",
    "def func(lamb=93.1):\n",
    "    cd = imagem2global([639, 719], lamb)\n",
    "    print(f'[{cd[0]:.3f}, {cd[1]:.3f}, {cd[2]:.3f}]')"
   ]
  },
  {
   "cell_type": "code",
   "execution_count": 43,
   "metadata": {},
   "outputs": [
    {
     "data": {
      "application/vnd.jupyter.widget-view+json": {
       "model_id": "178b8df83bca4cde9ab320b50e8138cf",
       "version_major": 2,
       "version_minor": 0
      },
      "text/plain": [
       "interactive(children=(FloatSlider(value=100.0, description='lamb', max=120.0, min=80.0, step=0.001), IntSlider…"
      ]
     },
     "metadata": {},
     "output_type": "display_data"
    }
   ],
   "source": [
    "@interact(lamb=(80.0,120.0, 0.001), x=(0, 1279, 1), y=(0, 719, 1))\n",
    "def func(lamb=100, x=0, y=0):\n",
    "    cd = imagem2global([x, y], lamb)\n",
    "    print(f'[{cd[0]:.3f}, {cd[1]:.3f}, {cd[2]:.3f}]')"
   ]
  },
  {
   "cell_type": "markdown",
   "metadata": {},
   "source": [
    "---"
   ]
  },
  {
   "cell_type": "markdown",
   "metadata": {},
   "source": [
    "4 - Considere a reta que passa pelo ponto no canto superior esquerdo e a que passa pelo ponto no canto inferior direito. Ambas as retas passam pelo centro de projeção da câmera. Sabendo que o produto interno de dois vetores $\\vec{v1}\\cdot\\vec{v2}$ é $|\\vec{v1}||\\vec{v2}| cos\\theta$, onde $\\theta$ é o ângulo entre os vetores, qual é o ângulo formado pelas retas?"
   ]
  },
  {
   "cell_type": "markdown",
   "metadata": {},
   "source": [
    "$cos\\theta = \\frac{\\vec{v1} \\cdot \\vec{v2}}{|\\vec{v1}||\\vec{v2}|}$\n",
    "\n",
    "$\\theta = arccos\\left(\\frac{\\vec{v1} \\cdot \\vec{v2}}{|\\vec{v1}||\\vec{v2}|}\\right)$"
   ]
  },
  {
   "cell_type": "code",
   "execution_count": 15,
   "metadata": {
    "scrolled": false
   },
   "outputs": [
    {
     "name": "stdout",
     "output_type": "stream",
     "text": [
      "ângulo entre os vetores:\n",
      "1.563 rad\n",
      "89.6°\n"
     ]
    }
   ],
   "source": [
    "s_e = [0,0]\n",
    "i_d = [1279, 719]\n",
    "\n",
    "v1 = np.array(imagem2global(s_e, 100))\n",
    "v2 = np.array(imagem2global(i_d, 100))\n",
    "\n",
    "theta = math.acos((v1@v2)/(np.linalg.norm(v1)*np.linalg.norm(v2)))\n",
    "\n",
    "print('ângulo entre os vetores:')\n",
    "print(f'{theta:.3f} rad')\n",
    "print(f'{180*theta/math.pi:.1f}°')"
   ]
  },
  {
   "cell_type": "markdown",
   "metadata": {},
   "source": [
    "---"
   ]
  },
  {
   "cell_type": "markdown",
   "metadata": {},
   "source": [
    "## 5.8.1 Um caso especial: $z' = 0$"
   ]
  },
  {
   "cell_type": "markdown",
   "metadata": {},
   "source": [
    "1 - A partir da matriz R e do vetor t, calcule a matriz S de projeção reversa para $z' = 0$"
   ]
  },
  {
   "cell_type": "code",
   "execution_count": 16,
   "metadata": {
    "scrolled": true
   },
   "outputs": [
    {
     "data": {
      "text/plain": [
       "array([[ 2.61537700e-02, -9.99655910e-01, -2.01007000e-03,\n",
       "        -1.57344933e+00],\n",
       "       [-6.22920820e-01, -1.47246300e-02, -7.82146300e-01,\n",
       "         8.09214733e+01],\n",
       "       [ 7.81847570e-01,  2.17081900e-02, -6.23091590e-01,\n",
       "         4.43053910e+01],\n",
       "       [ 0.00000000e+00,  0.00000000e+00,  0.00000000e+00,\n",
       "         1.00000000e+00]])"
      ]
     },
     "execution_count": 16,
     "metadata": {},
     "output_type": "execute_result"
    }
   ],
   "source": [
    "P = np.array([[1, 0, 0, 0],\n",
    "              [0, 1, 0, 0],\n",
    "              [0, 0, 1, 0]])\n",
    "\n",
    "G = np.eye(4)\n",
    "G[0:3,0:3] = R\n",
    "G[0:3,3] = t\n",
    "G"
   ]
  },
  {
   "cell_type": "code",
   "execution_count": 17,
   "metadata": {
    "scrolled": true
   },
   "outputs": [
    {
     "data": {
      "text/plain": [
       "array([[ 2.61537700e-02, -9.99655910e-01, -1.57344933e+00],\n",
       "       [-6.22920820e-01, -1.47246300e-02,  8.09214733e+01],\n",
       "       [ 7.81847570e-01,  2.17081900e-02,  4.43053910e+01]])"
      ]
     },
     "execution_count": 17,
     "metadata": {},
     "output_type": "execute_result"
    }
   ],
   "source": [
    "N = P@G\n",
    "Nz = np.eye(3)\n",
    "Nz[0:3, 0:2] = N[0:3,0:2]\n",
    "Nz[0:3, 2] = N[:,3]\n",
    "Nz"
   ]
  },
  {
   "cell_type": "code",
   "execution_count": 18,
   "metadata": {
    "scrolled": true
   },
   "outputs": [
    {
     "data": {
      "text/plain": [
       "array([[ 2.65033690e-02, -4.86888221e-01,  8.90217037e-01],\n",
       "       [-9.99685614e-01, -2.62823609e-02,  1.25007971e-02],\n",
       "       [ 2.21140262e-05,  8.60488772e-03,  6.85502591e-03]])"
      ]
     },
     "execution_count": 18,
     "metadata": {},
     "output_type": "execute_result"
    }
   ],
   "source": [
    "Q = np.linalg.inv(Nz)\n",
    "Q"
   ]
  },
  {
   "cell_type": "code",
   "execution_count": 19,
   "metadata": {
    "scrolled": true
   },
   "outputs": [
    {
     "data": {
      "text/plain": [
       "array([[ 3.86626825e+00, -7.10264597e+01,  1.29863410e+02],\n",
       "       [-1.45832507e+02, -3.83402794e+00,  1.82359590e+00],\n",
       "       [ 3.22595808e-03,  1.25526699e+00,  1.00000000e+00]])"
      ]
     },
     "execution_count": 19,
     "metadata": {},
     "output_type": "execute_result"
    }
   ],
   "source": [
    "S = Q/Q[2][2]\n",
    "S"
   ]
  },
  {
   "cell_type": "markdown",
   "metadata": {},
   "source": [
    "---"
   ]
  },
  {
   "cell_type": "markdown",
   "metadata": {},
   "source": [
    "2 - Na seção 5.7 você calculou as coordenadas da imagem correspondentes ao ponto (154, 55, 0), 0, 0). Vamos agora inverter este cálculo. Primeiro calcule as coordenadas de projeção ideal (x̂, ŷ) com os parâmetros intrı́nsecos fazendo uma chamada a undistortPoints. Depois, calcule com a matriz S as coordenadas x', y' correspondentes a este ponto. Compare o valor com o esperado."
   ]
  },
  {
   "cell_type": "code",
   "execution_count": 20,
   "metadata": {},
   "outputs": [],
   "source": [
    "# TODO"
   ]
  },
  {
   "cell_type": "markdown",
   "metadata": {},
   "source": [
    "---"
   ]
  },
  {
   "cell_type": "markdown",
   "metadata": {},
   "source": [
    "Reproduza o processo de reconstrução do Logotipo com uma imagem qualquer à sua escolha. Tente variar os parâmetros mtx2 e dim e observe que efeito eles produzem na imagem final."
   ]
  },
  {
   "cell_type": "code",
   "execution_count": 21,
   "metadata": {
    "scrolled": true
   },
   "outputs": [],
   "source": [
    "#mtx2 = np.eye(3)\n",
    "mtx2 = np.float32([[4,  0,     0],\n",
    "                   [0, -4, 4*105],\n",
    "                   [0,  0,     1]])\n",
    "dim = (4*297, 4*210)\n",
    "tipo_mapa = cv2.CV_32FC1\n",
    "mapa_x, mapa_y = cv2.initUndistortRectifyMap(mtx, dist, S, mtx2, dim, tipo_mapa)"
   ]
  },
  {
   "cell_type": "code",
   "execution_count": 2,
   "metadata": {
    "scrolled": true
   },
   "outputs": [
    {
     "ename": "NameError",
     "evalue": "name 'cv2' is not defined",
     "output_type": "error",
     "traceback": [
      "\u001b[0;31m---------------------------------------------------------------------------\u001b[0m",
      "\u001b[0;31mNameError\u001b[0m                                 Traceback (most recent call last)",
      "\u001b[0;32m<ipython-input-2-f7f206411196>\u001b[0m in \u001b[0;36m<module>\u001b[0;34m\u001b[0m\n\u001b[0;32m----> 1\u001b[0;31m \u001b[0mimagem_adp\u001b[0m \u001b[0;34m=\u001b[0m \u001b[0mcv2\u001b[0m\u001b[0;34m.\u001b[0m\u001b[0mimread\u001b[0m\u001b[0;34m(\u001b[0m\u001b[0;34m\"pmr3502-captura-opencv-notebook/adp1.jpg\"\u001b[0m\u001b[0;34m)\u001b[0m\u001b[0;34m\u001b[0m\u001b[0;34m\u001b[0m\u001b[0m\n\u001b[0m\u001b[1;32m      2\u001b[0m \u001b[0mborda\u001b[0m \u001b[0;34m=\u001b[0m \u001b[0mcv2\u001b[0m\u001b[0;34m.\u001b[0m\u001b[0mBORDER_REPLICATE\u001b[0m\u001b[0;34m\u001b[0m\u001b[0;34m\u001b[0m\u001b[0m\n\u001b[1;32m      3\u001b[0m \u001b[0;31m# tipos de borda:\u001b[0m\u001b[0;34m\u001b[0m\u001b[0;34m\u001b[0m\u001b[0;34m\u001b[0m\u001b[0m\n\u001b[1;32m      4\u001b[0m \u001b[0;31m# cv2.BORDER_CONSTANT\u001b[0m\u001b[0;34m\u001b[0m\u001b[0;34m\u001b[0m\u001b[0;34m\u001b[0m\u001b[0m\n\u001b[1;32m      5\u001b[0m \u001b[0;31m# cv2.BORDER_REFLECT\u001b[0m\u001b[0;34m\u001b[0m\u001b[0;34m\u001b[0m\u001b[0;34m\u001b[0m\u001b[0m\n",
      "\u001b[0;31mNameError\u001b[0m: name 'cv2' is not defined"
     ]
    }
   ],
   "source": [
    "imagem_adp = cv2.imread(\"pmr3502-captura-opencv-notebook/adp1.jpg\")\n",
    "borda = cv2.BORDER_REPLICATE\n",
    "# tipos de borda:\n",
    "# cv2.BORDER_CONSTANT\n",
    "# cv2.BORDER_REFLECT\n",
    "# cv2.BORDER_REFLECT_101\n",
    "# cv2.BORDER_REPLICATE\n",
    "# cv2.BORDER_WRAP\n",
    "\n",
    "imagem_adp_remapeada = cv2.remap(imagem_adp, mapa_x, mapa_y, cv2.INTER_LINEAR, borderMode=borda)\n",
    "\n",
    "# plt.xlim(400, 650)\n",
    "# plt.ylim(250, 500)\n",
    "plt.clf()\n",
    "plt.imshow(imagem_adp_remapeada)"
   ]
  },
  {
   "cell_type": "code",
   "execution_count": 47,
   "metadata": {},
   "outputs": [
    {
     "data": {
      "text/plain": [
       "(720, 1280, 3)"
      ]
     },
     "execution_count": 47,
     "metadata": {},
     "output_type": "execute_result"
    }
   ],
   "source": [
    "imagem_adp.shape"
   ]
  }
 ],
 "metadata": {
  "kernelspec": {
   "display_name": "Python 3",
   "language": "python",
   "name": "python3"
  },
  "language_info": {
   "codemirror_mode": {
    "name": "ipython",
    "version": 3
   },
   "file_extension": ".py",
   "mimetype": "text/x-python",
   "name": "python",
   "nbconvert_exporter": "python",
   "pygments_lexer": "ipython3",
   "version": "3.9.2"
  }
 },
 "nbformat": 4,
 "nbformat_minor": 4
}
